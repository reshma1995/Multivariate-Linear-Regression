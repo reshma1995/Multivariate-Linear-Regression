{
 "cells": [
  {
   "cell_type": "code",
   "execution_count": 1,
   "metadata": {},
   "outputs": [],
   "source": [
    "import numpy as np\n",
    "import pandas as pd\n",
    "from sklearn.model_selection import train_test_split\n",
    "import matplotlib.pyplot as plt\n",
    "from sklearn.linear_model import LinearRegression"
   ]
  },
  {
   "cell_type": "markdown",
   "metadata": {},
   "source": [
    "## Load DataSet from the path"
   ]
  },
  {
   "cell_type": "code",
   "execution_count": 2,
   "metadata": {},
   "outputs": [
    {
     "data": {
      "text/html": [
       "<div>\n",
       "<style scoped>\n",
       "    .dataframe tbody tr th:only-of-type {\n",
       "        vertical-align: middle;\n",
       "    }\n",
       "\n",
       "    .dataframe tbody tr th {\n",
       "        vertical-align: top;\n",
       "    }\n",
       "\n",
       "    .dataframe thead th {\n",
       "        text-align: right;\n",
       "    }\n",
       "</style>\n",
       "<table border=\"1\" class=\"dataframe\">\n",
       "  <thead>\n",
       "    <tr style=\"text-align: right;\">\n",
       "      <th></th>\n",
       "      <th>Quality</th>\n",
       "      <th>R_RICE_IN_KG</th>\n",
       "      <th>R_WATER_IN_LIT</th>\n",
       "      <th>Temp 1</th>\n",
       "      <th>Temp Manintain time  Min</th>\n",
       "      <th>Temp2</th>\n",
       "      <th>Temp Maintain time</th>\n",
       "      <th>Temp3</th>\n",
       "      <th>R_PRESSURE</th>\n",
       "      <th>Steam inlet temp Deg</th>\n",
       "      <th>R_CHEMICAL_LITRE</th>\n",
       "    </tr>\n",
       "  </thead>\n",
       "  <tbody>\n",
       "    <tr>\n",
       "      <th>0</th>\n",
       "      <td>GOOD</td>\n",
       "      <td>100</td>\n",
       "      <td>130</td>\n",
       "      <td>50</td>\n",
       "      <td>10</td>\n",
       "      <td>70</td>\n",
       "      <td>15</td>\n",
       "      <td>110</td>\n",
       "      <td>1.0</td>\n",
       "      <td>130</td>\n",
       "      <td>1.0</td>\n",
       "    </tr>\n",
       "    <tr>\n",
       "      <th>1</th>\n",
       "      <td>GOOD</td>\n",
       "      <td>200</td>\n",
       "      <td>260</td>\n",
       "      <td>50</td>\n",
       "      <td>10</td>\n",
       "      <td>70</td>\n",
       "      <td>15</td>\n",
       "      <td>110</td>\n",
       "      <td>2.0</td>\n",
       "      <td>130</td>\n",
       "      <td>2.0</td>\n",
       "    </tr>\n",
       "    <tr>\n",
       "      <th>2</th>\n",
       "      <td>GOOD</td>\n",
       "      <td>200</td>\n",
       "      <td>330</td>\n",
       "      <td>50</td>\n",
       "      <td>12</td>\n",
       "      <td>70</td>\n",
       "      <td>17</td>\n",
       "      <td>110</td>\n",
       "      <td>1.8</td>\n",
       "      <td>130</td>\n",
       "      <td>2.4</td>\n",
       "    </tr>\n",
       "    <tr>\n",
       "      <th>3</th>\n",
       "      <td>GOOD</td>\n",
       "      <td>300</td>\n",
       "      <td>390</td>\n",
       "      <td>50</td>\n",
       "      <td>12</td>\n",
       "      <td>70</td>\n",
       "      <td>17</td>\n",
       "      <td>110</td>\n",
       "      <td>3.0</td>\n",
       "      <td>130</td>\n",
       "      <td>3.0</td>\n",
       "    </tr>\n",
       "    <tr>\n",
       "      <th>4</th>\n",
       "      <td>GOOD</td>\n",
       "      <td>400</td>\n",
       "      <td>520</td>\n",
       "      <td>50</td>\n",
       "      <td>14</td>\n",
       "      <td>70</td>\n",
       "      <td>19</td>\n",
       "      <td>110</td>\n",
       "      <td>4.0</td>\n",
       "      <td>130</td>\n",
       "      <td>4.0</td>\n",
       "    </tr>\n",
       "  </tbody>\n",
       "</table>\n",
       "</div>"
      ],
      "text/plain": [
       "  Quality  R_RICE_IN_KG  R_WATER_IN_LIT  Temp 1  Temp Manintain time  Min  \\\n",
       "0    GOOD           100             130      50                        10   \n",
       "1    GOOD           200             260      50                        10   \n",
       "2    GOOD           200             330      50                        12   \n",
       "3    GOOD           300             390      50                        12   \n",
       "4    GOOD           400             520      50                        14   \n",
       "\n",
       "   Temp2  Temp Maintain time  Temp3  R_PRESSURE  Steam inlet temp Deg  \\\n",
       "0     70                  15    110         1.0                   130   \n",
       "1     70                  15    110         2.0                   130   \n",
       "2     70                  17    110         1.8                   130   \n",
       "3     70                  17    110         3.0                   130   \n",
       "4     70                  19    110         4.0                   130   \n",
       "\n",
       "   R_CHEMICAL_LITRE  \n",
       "0               1.0  \n",
       "1               2.0  \n",
       "2               2.4  \n",
       "3               3.0  \n",
       "4               4.0  "
      ]
     },
     "execution_count": 2,
     "metadata": {},
     "output_type": "execute_result"
    }
   ],
   "source": [
    "dataSet = pd.read_json('/home/sampras/MachineLearning/YieldImprovement/YI_OneHotEncoding/stageOneData.json')\n",
    "dataSet.head()"
   ]
  },
  {
   "cell_type": "markdown",
   "metadata": {},
   "source": [
    "## Separation of Numerical and Categorical Columns"
   ]
  },
  {
   "cell_type": "code",
   "execution_count": 3,
   "metadata": {},
   "outputs": [],
   "source": [
    "dataSet_dict = dict(dataSet.dtypes)\n",
    "\n",
    "numeric_columns=[]\n",
    "categorial_columns=[]\n",
    "for i in dataSet_dict:\n",
    "    if dataSet_dict[i] in ['float64', 'int64', 'float32', 'int32']:\n",
    "        numeric_columns.append(i)\n",
    "    else:\n",
    "        categorial_columns.append(i)"
   ]
  },
  {
   "cell_type": "code",
   "execution_count": 4,
   "metadata": {},
   "outputs": [],
   "source": [
    "dataSetCopy = dataSet.copy()"
   ]
  },
  {
   "cell_type": "code",
   "execution_count": 5,
   "metadata": {},
   "outputs": [],
   "source": [
    "cat = dataSetCopy[categorial_columns]"
   ]
  },
  {
   "cell_type": "code",
   "execution_count": 6,
   "metadata": {},
   "outputs": [
    {
     "data": {
      "text/html": [
       "<div>\n",
       "<style scoped>\n",
       "    .dataframe tbody tr th:only-of-type {\n",
       "        vertical-align: middle;\n",
       "    }\n",
       "\n",
       "    .dataframe tbody tr th {\n",
       "        vertical-align: top;\n",
       "    }\n",
       "\n",
       "    .dataframe thead th {\n",
       "        text-align: right;\n",
       "    }\n",
       "</style>\n",
       "<table border=\"1\" class=\"dataframe\">\n",
       "  <thead>\n",
       "    <tr style=\"text-align: right;\">\n",
       "      <th></th>\n",
       "      <th>Quality</th>\n",
       "    </tr>\n",
       "  </thead>\n",
       "  <tbody>\n",
       "    <tr>\n",
       "      <th>0</th>\n",
       "      <td>GOOD</td>\n",
       "    </tr>\n",
       "    <tr>\n",
       "      <th>1</th>\n",
       "      <td>GOOD</td>\n",
       "    </tr>\n",
       "    <tr>\n",
       "      <th>2</th>\n",
       "      <td>GOOD</td>\n",
       "    </tr>\n",
       "    <tr>\n",
       "      <th>3</th>\n",
       "      <td>GOOD</td>\n",
       "    </tr>\n",
       "    <tr>\n",
       "      <th>4</th>\n",
       "      <td>GOOD</td>\n",
       "    </tr>\n",
       "  </tbody>\n",
       "</table>\n",
       "</div>"
      ],
      "text/plain": [
       "  Quality\n",
       "0    GOOD\n",
       "1    GOOD\n",
       "2    GOOD\n",
       "3    GOOD\n",
       "4    GOOD"
      ]
     },
     "execution_count": 6,
     "metadata": {},
     "output_type": "execute_result"
    }
   ],
   "source": [
    "cat.head()"
   ]
  },
  {
   "cell_type": "markdown",
   "metadata": {},
   "source": [
    "## Use OneHot  Encoder to encode the categorical column"
   ]
  },
  {
   "cell_type": "code",
   "execution_count": 7,
   "metadata": {},
   "outputs": [
    {
     "data": {
      "text/html": [
       "<div>\n",
       "<style scoped>\n",
       "    .dataframe tbody tr th:only-of-type {\n",
       "        vertical-align: middle;\n",
       "    }\n",
       "\n",
       "    .dataframe tbody tr th {\n",
       "        vertical-align: top;\n",
       "    }\n",
       "\n",
       "    .dataframe thead th {\n",
       "        text-align: right;\n",
       "    }\n",
       "</style>\n",
       "<table border=\"1\" class=\"dataframe\">\n",
       "  <thead>\n",
       "    <tr style=\"text-align: right;\">\n",
       "      <th></th>\n",
       "      <th>Quality_AVERAGE</th>\n",
       "      <th>Quality_BAD</th>\n",
       "      <th>Quality_GOOD</th>\n",
       "    </tr>\n",
       "  </thead>\n",
       "  <tbody>\n",
       "    <tr>\n",
       "      <th>0</th>\n",
       "      <td>0</td>\n",
       "      <td>0</td>\n",
       "      <td>1</td>\n",
       "    </tr>\n",
       "    <tr>\n",
       "      <th>1</th>\n",
       "      <td>0</td>\n",
       "      <td>0</td>\n",
       "      <td>1</td>\n",
       "    </tr>\n",
       "    <tr>\n",
       "      <th>2</th>\n",
       "      <td>0</td>\n",
       "      <td>0</td>\n",
       "      <td>1</td>\n",
       "    </tr>\n",
       "    <tr>\n",
       "      <th>3</th>\n",
       "      <td>0</td>\n",
       "      <td>0</td>\n",
       "      <td>1</td>\n",
       "    </tr>\n",
       "    <tr>\n",
       "      <th>4</th>\n",
       "      <td>0</td>\n",
       "      <td>0</td>\n",
       "      <td>1</td>\n",
       "    </tr>\n",
       "  </tbody>\n",
       "</table>\n",
       "</div>"
      ],
      "text/plain": [
       "   Quality_AVERAGE  Quality_BAD  Quality_GOOD\n",
       "0                0            0             1\n",
       "1                0            0             1\n",
       "2                0            0             1\n",
       "3                0            0             1\n",
       "4                0            0             1"
      ]
     },
     "execution_count": 7,
     "metadata": {},
     "output_type": "execute_result"
    }
   ],
   "source": [
    "encode = pd.get_dummies(cat)\n",
    "encode.head()"
   ]
  },
  {
   "cell_type": "markdown",
   "metadata": {},
   "source": [
    "## Concatenate the encoded data to the original data"
   ]
  },
  {
   "cell_type": "code",
   "execution_count": 8,
   "metadata": {},
   "outputs": [
    {
     "data": {
      "text/html": [
       "<div>\n",
       "<style scoped>\n",
       "    .dataframe tbody tr th:only-of-type {\n",
       "        vertical-align: middle;\n",
       "    }\n",
       "\n",
       "    .dataframe tbody tr th {\n",
       "        vertical-align: top;\n",
       "    }\n",
       "\n",
       "    .dataframe thead th {\n",
       "        text-align: right;\n",
       "    }\n",
       "</style>\n",
       "<table border=\"1\" class=\"dataframe\">\n",
       "  <thead>\n",
       "    <tr style=\"text-align: right;\">\n",
       "      <th></th>\n",
       "      <th>Quality</th>\n",
       "      <th>R_RICE_IN_KG</th>\n",
       "      <th>R_WATER_IN_LIT</th>\n",
       "      <th>Temp 1</th>\n",
       "      <th>Temp Manintain time  Min</th>\n",
       "      <th>Temp2</th>\n",
       "      <th>Temp Maintain time</th>\n",
       "      <th>Temp3</th>\n",
       "      <th>R_PRESSURE</th>\n",
       "      <th>Steam inlet temp Deg</th>\n",
       "      <th>R_CHEMICAL_LITRE</th>\n",
       "      <th>Quality_AVERAGE</th>\n",
       "      <th>Quality_BAD</th>\n",
       "      <th>Quality_GOOD</th>\n",
       "    </tr>\n",
       "  </thead>\n",
       "  <tbody>\n",
       "    <tr>\n",
       "      <th>0</th>\n",
       "      <td>GOOD</td>\n",
       "      <td>100</td>\n",
       "      <td>130</td>\n",
       "      <td>50</td>\n",
       "      <td>10</td>\n",
       "      <td>70</td>\n",
       "      <td>15</td>\n",
       "      <td>110</td>\n",
       "      <td>1.0</td>\n",
       "      <td>130</td>\n",
       "      <td>1.0</td>\n",
       "      <td>0</td>\n",
       "      <td>0</td>\n",
       "      <td>1</td>\n",
       "    </tr>\n",
       "    <tr>\n",
       "      <th>1</th>\n",
       "      <td>GOOD</td>\n",
       "      <td>200</td>\n",
       "      <td>260</td>\n",
       "      <td>50</td>\n",
       "      <td>10</td>\n",
       "      <td>70</td>\n",
       "      <td>15</td>\n",
       "      <td>110</td>\n",
       "      <td>2.0</td>\n",
       "      <td>130</td>\n",
       "      <td>2.0</td>\n",
       "      <td>0</td>\n",
       "      <td>0</td>\n",
       "      <td>1</td>\n",
       "    </tr>\n",
       "    <tr>\n",
       "      <th>2</th>\n",
       "      <td>GOOD</td>\n",
       "      <td>200</td>\n",
       "      <td>330</td>\n",
       "      <td>50</td>\n",
       "      <td>12</td>\n",
       "      <td>70</td>\n",
       "      <td>17</td>\n",
       "      <td>110</td>\n",
       "      <td>1.8</td>\n",
       "      <td>130</td>\n",
       "      <td>2.4</td>\n",
       "      <td>0</td>\n",
       "      <td>0</td>\n",
       "      <td>1</td>\n",
       "    </tr>\n",
       "    <tr>\n",
       "      <th>3</th>\n",
       "      <td>GOOD</td>\n",
       "      <td>300</td>\n",
       "      <td>390</td>\n",
       "      <td>50</td>\n",
       "      <td>12</td>\n",
       "      <td>70</td>\n",
       "      <td>17</td>\n",
       "      <td>110</td>\n",
       "      <td>3.0</td>\n",
       "      <td>130</td>\n",
       "      <td>3.0</td>\n",
       "      <td>0</td>\n",
       "      <td>0</td>\n",
       "      <td>1</td>\n",
       "    </tr>\n",
       "    <tr>\n",
       "      <th>4</th>\n",
       "      <td>GOOD</td>\n",
       "      <td>400</td>\n",
       "      <td>520</td>\n",
       "      <td>50</td>\n",
       "      <td>14</td>\n",
       "      <td>70</td>\n",
       "      <td>19</td>\n",
       "      <td>110</td>\n",
       "      <td>4.0</td>\n",
       "      <td>130</td>\n",
       "      <td>4.0</td>\n",
       "      <td>0</td>\n",
       "      <td>0</td>\n",
       "      <td>1</td>\n",
       "    </tr>\n",
       "  </tbody>\n",
       "</table>\n",
       "</div>"
      ],
      "text/plain": [
       "  Quality  R_RICE_IN_KG  R_WATER_IN_LIT  Temp 1  Temp Manintain time  Min  \\\n",
       "0    GOOD           100             130      50                        10   \n",
       "1    GOOD           200             260      50                        10   \n",
       "2    GOOD           200             330      50                        12   \n",
       "3    GOOD           300             390      50                        12   \n",
       "4    GOOD           400             520      50                        14   \n",
       "\n",
       "   Temp2  Temp Maintain time  Temp3  R_PRESSURE  Steam inlet temp Deg  \\\n",
       "0     70                  15    110         1.0                   130   \n",
       "1     70                  15    110         2.0                   130   \n",
       "2     70                  17    110         1.8                   130   \n",
       "3     70                  17    110         3.0                   130   \n",
       "4     70                  19    110         4.0                   130   \n",
       "\n",
       "   R_CHEMICAL_LITRE  Quality_AVERAGE  Quality_BAD  Quality_GOOD  \n",
       "0               1.0                0            0             1  \n",
       "1               2.0                0            0             1  \n",
       "2               2.4                0            0             1  \n",
       "3               3.0                0            0             1  \n",
       "4               4.0                0            0             1  "
      ]
     },
     "execution_count": 8,
     "metadata": {},
     "output_type": "execute_result"
    }
   ],
   "source": [
    "dataSetCopyConcat = pd.concat([dataSetCopy,encode], axis=1)\n",
    "dataSetCopyConcat.head()"
   ]
  },
  {
   "cell_type": "markdown",
   "metadata": {},
   "source": [
    "## Drop the Categorical column from the Concatenated DataFrame"
   ]
  },
  {
   "cell_type": "code",
   "execution_count": 9,
   "metadata": {},
   "outputs": [
    {
     "data": {
      "text/html": [
       "<div>\n",
       "<style scoped>\n",
       "    .dataframe tbody tr th:only-of-type {\n",
       "        vertical-align: middle;\n",
       "    }\n",
       "\n",
       "    .dataframe tbody tr th {\n",
       "        vertical-align: top;\n",
       "    }\n",
       "\n",
       "    .dataframe thead th {\n",
       "        text-align: right;\n",
       "    }\n",
       "</style>\n",
       "<table border=\"1\" class=\"dataframe\">\n",
       "  <thead>\n",
       "    <tr style=\"text-align: right;\">\n",
       "      <th></th>\n",
       "      <th>R_RICE_IN_KG</th>\n",
       "      <th>R_WATER_IN_LIT</th>\n",
       "      <th>Temp 1</th>\n",
       "      <th>Temp Manintain time  Min</th>\n",
       "      <th>Temp2</th>\n",
       "      <th>Temp Maintain time</th>\n",
       "      <th>Temp3</th>\n",
       "      <th>R_PRESSURE</th>\n",
       "      <th>Steam inlet temp Deg</th>\n",
       "      <th>R_CHEMICAL_LITRE</th>\n",
       "      <th>Quality_AVERAGE</th>\n",
       "      <th>Quality_BAD</th>\n",
       "      <th>Quality_GOOD</th>\n",
       "    </tr>\n",
       "  </thead>\n",
       "  <tbody>\n",
       "    <tr>\n",
       "      <th>0</th>\n",
       "      <td>100</td>\n",
       "      <td>130</td>\n",
       "      <td>50</td>\n",
       "      <td>10</td>\n",
       "      <td>70</td>\n",
       "      <td>15</td>\n",
       "      <td>110</td>\n",
       "      <td>1.0</td>\n",
       "      <td>130</td>\n",
       "      <td>1.0</td>\n",
       "      <td>0</td>\n",
       "      <td>0</td>\n",
       "      <td>1</td>\n",
       "    </tr>\n",
       "    <tr>\n",
       "      <th>1</th>\n",
       "      <td>200</td>\n",
       "      <td>260</td>\n",
       "      <td>50</td>\n",
       "      <td>10</td>\n",
       "      <td>70</td>\n",
       "      <td>15</td>\n",
       "      <td>110</td>\n",
       "      <td>2.0</td>\n",
       "      <td>130</td>\n",
       "      <td>2.0</td>\n",
       "      <td>0</td>\n",
       "      <td>0</td>\n",
       "      <td>1</td>\n",
       "    </tr>\n",
       "    <tr>\n",
       "      <th>2</th>\n",
       "      <td>200</td>\n",
       "      <td>330</td>\n",
       "      <td>50</td>\n",
       "      <td>12</td>\n",
       "      <td>70</td>\n",
       "      <td>17</td>\n",
       "      <td>110</td>\n",
       "      <td>1.8</td>\n",
       "      <td>130</td>\n",
       "      <td>2.4</td>\n",
       "      <td>0</td>\n",
       "      <td>0</td>\n",
       "      <td>1</td>\n",
       "    </tr>\n",
       "    <tr>\n",
       "      <th>3</th>\n",
       "      <td>300</td>\n",
       "      <td>390</td>\n",
       "      <td>50</td>\n",
       "      <td>12</td>\n",
       "      <td>70</td>\n",
       "      <td>17</td>\n",
       "      <td>110</td>\n",
       "      <td>3.0</td>\n",
       "      <td>130</td>\n",
       "      <td>3.0</td>\n",
       "      <td>0</td>\n",
       "      <td>0</td>\n",
       "      <td>1</td>\n",
       "    </tr>\n",
       "    <tr>\n",
       "      <th>4</th>\n",
       "      <td>400</td>\n",
       "      <td>520</td>\n",
       "      <td>50</td>\n",
       "      <td>14</td>\n",
       "      <td>70</td>\n",
       "      <td>19</td>\n",
       "      <td>110</td>\n",
       "      <td>4.0</td>\n",
       "      <td>130</td>\n",
       "      <td>4.0</td>\n",
       "      <td>0</td>\n",
       "      <td>0</td>\n",
       "      <td>1</td>\n",
       "    </tr>\n",
       "  </tbody>\n",
       "</table>\n",
       "</div>"
      ],
      "text/plain": [
       "   R_RICE_IN_KG  R_WATER_IN_LIT  Temp 1  Temp Manintain time  Min  Temp2  \\\n",
       "0           100             130      50                        10     70   \n",
       "1           200             260      50                        10     70   \n",
       "2           200             330      50                        12     70   \n",
       "3           300             390      50                        12     70   \n",
       "4           400             520      50                        14     70   \n",
       "\n",
       "   Temp Maintain time  Temp3  R_PRESSURE  Steam inlet temp Deg  \\\n",
       "0                  15    110         1.0                   130   \n",
       "1                  15    110         2.0                   130   \n",
       "2                  17    110         1.8                   130   \n",
       "3                  17    110         3.0                   130   \n",
       "4                  19    110         4.0                   130   \n",
       "\n",
       "   R_CHEMICAL_LITRE  Quality_AVERAGE  Quality_BAD  Quality_GOOD  \n",
       "0               1.0                0            0             1  \n",
       "1               2.0                0            0             1  \n",
       "2               2.4                0            0             1  \n",
       "3               3.0                0            0             1  \n",
       "4               4.0                0            0             1  "
      ]
     },
     "execution_count": 9,
     "metadata": {},
     "output_type": "execute_result"
    }
   ],
   "source": [
    "dataSetCopyDrop = dataSetCopyConcat.drop('Quality',axis=1)\n",
    "dataSetCopyDrop.head()"
   ]
  },
  {
   "cell_type": "markdown",
   "metadata": {},
   "source": [
    "## Separate independent variable (x) & dependent variable (y)"
   ]
  },
  {
   "cell_type": "code",
   "execution_count": 10,
   "metadata": {},
   "outputs": [],
   "source": [
    "xArray = ['R_CHEMICAL_LITRE','R_PRESSURE','R_RICE_IN_KG','R_WATER_IN_LIT','Quality_AVERAGE','Quality_BAD','Quality_GOOD']\n",
    "x = dataSetCopyDrop[xArray]\n",
    "y = dataSetCopyDrop.iloc[:,[2,3,4,5,6,8]].values"
   ]
  },
  {
   "cell_type": "markdown",
   "metadata": {},
   "source": [
    "## Split Train(80%) and Test(20%) Data"
   ]
  },
  {
   "cell_type": "code",
   "execution_count": 11,
   "metadata": {},
   "outputs": [],
   "source": [
    "x_train,x_test,y_train,y_test=train_test_split(x,y,test_size=0.20,random_state=42)"
   ]
  },
  {
   "cell_type": "markdown",
   "metadata": {},
   "source": [
    "## Build the Linear Regression model"
   ]
  },
  {
   "cell_type": "code",
   "execution_count": 12,
   "metadata": {},
   "outputs": [
    {
     "data": {
      "text/plain": [
       "LinearRegression(copy_X=True, fit_intercept=True, n_jobs=None, normalize=False)"
      ]
     },
     "execution_count": 12,
     "metadata": {},
     "output_type": "execute_result"
    }
   ],
   "source": [
    "reg=LinearRegression()\n",
    "reg.fit(x_train,y_train)"
   ]
  },
  {
   "cell_type": "markdown",
   "metadata": {},
   "source": [
    "## Predict value for the 20% test data"
   ]
  },
  {
   "cell_type": "code",
   "execution_count": 13,
   "metadata": {},
   "outputs": [],
   "source": [
    "y_pred=reg.predict(x_test)"
   ]
  },
  {
   "cell_type": "markdown",
   "metadata": {},
   "source": [
    "## Check for RMSE and R^2\n",
    "- R^2 value ranges from 0 to 1"
   ]
  },
  {
   "cell_type": "code",
   "execution_count": 14,
   "metadata": {},
   "outputs": [
    {
     "name": "stdout",
     "output_type": "stream",
     "text": [
      "RMSE= 6.07939079126866\n",
      "R2 Score 0.21872478740287263\n"
     ]
    }
   ],
   "source": [
    "from sklearn.metrics import r2_score,mean_squared_error\n",
    "\n",
    "rmse=np.sqrt(mean_squared_error(y_test,y_pred))\n",
    "r2=r2_score(y_test,y_pred)\n",
    "print('RMSE=',rmse)\n",
    "print('R2 Score',r2)"
   ]
  },
  {
   "cell_type": "markdown",
   "metadata": {},
   "source": [
    "# Test model with external test data"
   ]
  },
  {
   "cell_type": "markdown",
   "metadata": {},
   "source": [
    "## Load the test data"
   ]
  },
  {
   "cell_type": "code",
   "execution_count": 15,
   "metadata": {},
   "outputs": [
    {
     "data": {
      "text/html": [
       "<div>\n",
       "<style scoped>\n",
       "    .dataframe tbody tr th:only-of-type {\n",
       "        vertical-align: middle;\n",
       "    }\n",
       "\n",
       "    .dataframe tbody tr th {\n",
       "        vertical-align: top;\n",
       "    }\n",
       "\n",
       "    .dataframe thead th {\n",
       "        text-align: right;\n",
       "    }\n",
       "</style>\n",
       "<table border=\"1\" class=\"dataframe\">\n",
       "  <thead>\n",
       "    <tr style=\"text-align: right;\">\n",
       "      <th></th>\n",
       "      <th>Quality</th>\n",
       "      <th>R_RICE_IN_KG</th>\n",
       "      <th>R_WATER_IN_LIT</th>\n",
       "      <th>R_PRESSURE</th>\n",
       "      <th>R_CHEMICAL_LITRE</th>\n",
       "    </tr>\n",
       "  </thead>\n",
       "  <tbody>\n",
       "    <tr>\n",
       "      <th>0</th>\n",
       "      <td>GOOD</td>\n",
       "      <td>300</td>\n",
       "      <td>330</td>\n",
       "      <td>1</td>\n",
       "      <td>1</td>\n",
       "    </tr>\n",
       "    <tr>\n",
       "      <th>1</th>\n",
       "      <td>GOOD</td>\n",
       "      <td>200</td>\n",
       "      <td>230</td>\n",
       "      <td>2</td>\n",
       "      <td>2</td>\n",
       "    </tr>\n",
       "    <tr>\n",
       "      <th>2</th>\n",
       "      <td>GOOD</td>\n",
       "      <td>100</td>\n",
       "      <td>130</td>\n",
       "      <td>1</td>\n",
       "      <td>1</td>\n",
       "    </tr>\n",
       "    <tr>\n",
       "      <th>3</th>\n",
       "      <td>AVERAGE</td>\n",
       "      <td>3000</td>\n",
       "      <td>3030</td>\n",
       "      <td>1</td>\n",
       "      <td>1</td>\n",
       "    </tr>\n",
       "    <tr>\n",
       "      <th>4</th>\n",
       "      <td>BAD</td>\n",
       "      <td>30</td>\n",
       "      <td>30</td>\n",
       "      <td>6</td>\n",
       "      <td>6</td>\n",
       "    </tr>\n",
       "  </tbody>\n",
       "</table>\n",
       "</div>"
      ],
      "text/plain": [
       "   Quality  R_RICE_IN_KG  R_WATER_IN_LIT  R_PRESSURE  R_CHEMICAL_LITRE\n",
       "0     GOOD           300             330           1                 1\n",
       "1     GOOD           200             230           2                 2\n",
       "2     GOOD           100             130           1                 1\n",
       "3  AVERAGE          3000            3030           1                 1\n",
       "4      BAD            30              30           6                 6"
      ]
     },
     "execution_count": 15,
     "metadata": {},
     "output_type": "execute_result"
    }
   ],
   "source": [
    "testData = pd.read_json('/home/sampras/MachineLearning/YieldImprovement/YI_OneHotEncoding/test_data.json')\n",
    "testData"
   ]
  },
  {
   "cell_type": "markdown",
   "metadata": {},
   "source": [
    "## Separate the Numeric and Categorical Columns"
   ]
  },
  {
   "cell_type": "code",
   "execution_count": 16,
   "metadata": {},
   "outputs": [],
   "source": [
    "testdataSet_dict = dict(testData.dtypes)\n",
    "\n",
    "test_numeric_columns=[]\n",
    "test_categorial_columns=[]\n",
    "for i in testdataSet_dict:\n",
    "    if testdataSet_dict[i] in ['float64', 'int64', 'float32', 'int32']:\n",
    "        test_numeric_columns.append(i)\n",
    "    else:\n",
    "        test_categorial_columns.append(i)"
   ]
  },
  {
   "cell_type": "code",
   "execution_count": 17,
   "metadata": {},
   "outputs": [],
   "source": [
    "testDataCopy = testData.copy()"
   ]
  },
  {
   "cell_type": "code",
   "execution_count": 18,
   "metadata": {},
   "outputs": [
    {
     "data": {
      "text/html": [
       "<div>\n",
       "<style scoped>\n",
       "    .dataframe tbody tr th:only-of-type {\n",
       "        vertical-align: middle;\n",
       "    }\n",
       "\n",
       "    .dataframe tbody tr th {\n",
       "        vertical-align: top;\n",
       "    }\n",
       "\n",
       "    .dataframe thead th {\n",
       "        text-align: right;\n",
       "    }\n",
       "</style>\n",
       "<table border=\"1\" class=\"dataframe\">\n",
       "  <thead>\n",
       "    <tr style=\"text-align: right;\">\n",
       "      <th></th>\n",
       "      <th>Quality</th>\n",
       "    </tr>\n",
       "  </thead>\n",
       "  <tbody>\n",
       "    <tr>\n",
       "      <th>0</th>\n",
       "      <td>GOOD</td>\n",
       "    </tr>\n",
       "    <tr>\n",
       "      <th>1</th>\n",
       "      <td>GOOD</td>\n",
       "    </tr>\n",
       "    <tr>\n",
       "      <th>2</th>\n",
       "      <td>GOOD</td>\n",
       "    </tr>\n",
       "    <tr>\n",
       "      <th>3</th>\n",
       "      <td>AVERAGE</td>\n",
       "    </tr>\n",
       "    <tr>\n",
       "      <th>4</th>\n",
       "      <td>BAD</td>\n",
       "    </tr>\n",
       "  </tbody>\n",
       "</table>\n",
       "</div>"
      ],
      "text/plain": [
       "   Quality\n",
       "0     GOOD\n",
       "1     GOOD\n",
       "2     GOOD\n",
       "3  AVERAGE\n",
       "4      BAD"
      ]
     },
     "execution_count": 18,
     "metadata": {},
     "output_type": "execute_result"
    }
   ],
   "source": [
    "catTest = testDataCopy[test_categorial_columns]\n",
    "catTest"
   ]
  },
  {
   "cell_type": "markdown",
   "metadata": {},
   "source": [
    "## Use OneHot  Encoder to encode the test categorical column"
   ]
  },
  {
   "cell_type": "code",
   "execution_count": 19,
   "metadata": {},
   "outputs": [
    {
     "data": {
      "text/html": [
       "<div>\n",
       "<style scoped>\n",
       "    .dataframe tbody tr th:only-of-type {\n",
       "        vertical-align: middle;\n",
       "    }\n",
       "\n",
       "    .dataframe tbody tr th {\n",
       "        vertical-align: top;\n",
       "    }\n",
       "\n",
       "    .dataframe thead th {\n",
       "        text-align: right;\n",
       "    }\n",
       "</style>\n",
       "<table border=\"1\" class=\"dataframe\">\n",
       "  <thead>\n",
       "    <tr style=\"text-align: right;\">\n",
       "      <th></th>\n",
       "      <th>Quality_AVERAGE</th>\n",
       "      <th>Quality_BAD</th>\n",
       "      <th>Quality_GOOD</th>\n",
       "    </tr>\n",
       "  </thead>\n",
       "  <tbody>\n",
       "    <tr>\n",
       "      <th>0</th>\n",
       "      <td>0</td>\n",
       "      <td>0</td>\n",
       "      <td>1</td>\n",
       "    </tr>\n",
       "    <tr>\n",
       "      <th>1</th>\n",
       "      <td>0</td>\n",
       "      <td>0</td>\n",
       "      <td>1</td>\n",
       "    </tr>\n",
       "    <tr>\n",
       "      <th>2</th>\n",
       "      <td>0</td>\n",
       "      <td>0</td>\n",
       "      <td>1</td>\n",
       "    </tr>\n",
       "    <tr>\n",
       "      <th>3</th>\n",
       "      <td>1</td>\n",
       "      <td>0</td>\n",
       "      <td>0</td>\n",
       "    </tr>\n",
       "    <tr>\n",
       "      <th>4</th>\n",
       "      <td>0</td>\n",
       "      <td>1</td>\n",
       "      <td>0</td>\n",
       "    </tr>\n",
       "  </tbody>\n",
       "</table>\n",
       "</div>"
      ],
      "text/plain": [
       "   Quality_AVERAGE  Quality_BAD  Quality_GOOD\n",
       "0                0            0             1\n",
       "1                0            0             1\n",
       "2                0            0             1\n",
       "3                1            0             0\n",
       "4                0            1             0"
      ]
     },
     "execution_count": 19,
     "metadata": {},
     "output_type": "execute_result"
    }
   ],
   "source": [
    "encodeTest = pd.get_dummies(catTest)\n",
    "encodeTest"
   ]
  },
  {
   "cell_type": "markdown",
   "metadata": {},
   "source": [
    "## Concatenate the encoded test data to the original data"
   ]
  },
  {
   "cell_type": "code",
   "execution_count": 20,
   "metadata": {},
   "outputs": [
    {
     "data": {
      "text/html": [
       "<div>\n",
       "<style scoped>\n",
       "    .dataframe tbody tr th:only-of-type {\n",
       "        vertical-align: middle;\n",
       "    }\n",
       "\n",
       "    .dataframe tbody tr th {\n",
       "        vertical-align: top;\n",
       "    }\n",
       "\n",
       "    .dataframe thead th {\n",
       "        text-align: right;\n",
       "    }\n",
       "</style>\n",
       "<table border=\"1\" class=\"dataframe\">\n",
       "  <thead>\n",
       "    <tr style=\"text-align: right;\">\n",
       "      <th></th>\n",
       "      <th>Quality</th>\n",
       "      <th>R_RICE_IN_KG</th>\n",
       "      <th>R_WATER_IN_LIT</th>\n",
       "      <th>R_PRESSURE</th>\n",
       "      <th>R_CHEMICAL_LITRE</th>\n",
       "      <th>Quality_AVERAGE</th>\n",
       "      <th>Quality_BAD</th>\n",
       "      <th>Quality_GOOD</th>\n",
       "    </tr>\n",
       "  </thead>\n",
       "  <tbody>\n",
       "    <tr>\n",
       "      <th>0</th>\n",
       "      <td>GOOD</td>\n",
       "      <td>300</td>\n",
       "      <td>330</td>\n",
       "      <td>1</td>\n",
       "      <td>1</td>\n",
       "      <td>0</td>\n",
       "      <td>0</td>\n",
       "      <td>1</td>\n",
       "    </tr>\n",
       "    <tr>\n",
       "      <th>1</th>\n",
       "      <td>GOOD</td>\n",
       "      <td>200</td>\n",
       "      <td>230</td>\n",
       "      <td>2</td>\n",
       "      <td>2</td>\n",
       "      <td>0</td>\n",
       "      <td>0</td>\n",
       "      <td>1</td>\n",
       "    </tr>\n",
       "    <tr>\n",
       "      <th>2</th>\n",
       "      <td>GOOD</td>\n",
       "      <td>100</td>\n",
       "      <td>130</td>\n",
       "      <td>1</td>\n",
       "      <td>1</td>\n",
       "      <td>0</td>\n",
       "      <td>0</td>\n",
       "      <td>1</td>\n",
       "    </tr>\n",
       "    <tr>\n",
       "      <th>3</th>\n",
       "      <td>AVERAGE</td>\n",
       "      <td>3000</td>\n",
       "      <td>3030</td>\n",
       "      <td>1</td>\n",
       "      <td>1</td>\n",
       "      <td>1</td>\n",
       "      <td>0</td>\n",
       "      <td>0</td>\n",
       "    </tr>\n",
       "    <tr>\n",
       "      <th>4</th>\n",
       "      <td>BAD</td>\n",
       "      <td>30</td>\n",
       "      <td>30</td>\n",
       "      <td>6</td>\n",
       "      <td>6</td>\n",
       "      <td>0</td>\n",
       "      <td>1</td>\n",
       "      <td>0</td>\n",
       "    </tr>\n",
       "  </tbody>\n",
       "</table>\n",
       "</div>"
      ],
      "text/plain": [
       "   Quality  R_RICE_IN_KG  R_WATER_IN_LIT  R_PRESSURE  R_CHEMICAL_LITRE  \\\n",
       "0     GOOD           300             330           1                 1   \n",
       "1     GOOD           200             230           2                 2   \n",
       "2     GOOD           100             130           1                 1   \n",
       "3  AVERAGE          3000            3030           1                 1   \n",
       "4      BAD            30              30           6                 6   \n",
       "\n",
       "   Quality_AVERAGE  Quality_BAD  Quality_GOOD  \n",
       "0                0            0             1  \n",
       "1                0            0             1  \n",
       "2                0            0             1  \n",
       "3                1            0             0  \n",
       "4                0            1             0  "
      ]
     },
     "execution_count": 20,
     "metadata": {},
     "output_type": "execute_result"
    }
   ],
   "source": [
    "testDataConcat = pd.concat([testDataCopy,encodeTest], axis=1)\n",
    "testDataConcat"
   ]
  },
  {
   "cell_type": "markdown",
   "metadata": {},
   "source": [
    "## Drop the Categorical column from the Concatenated DataFrame"
   ]
  },
  {
   "cell_type": "code",
   "execution_count": 21,
   "metadata": {},
   "outputs": [
    {
     "data": {
      "text/html": [
       "<div>\n",
       "<style scoped>\n",
       "    .dataframe tbody tr th:only-of-type {\n",
       "        vertical-align: middle;\n",
       "    }\n",
       "\n",
       "    .dataframe tbody tr th {\n",
       "        vertical-align: top;\n",
       "    }\n",
       "\n",
       "    .dataframe thead th {\n",
       "        text-align: right;\n",
       "    }\n",
       "</style>\n",
       "<table border=\"1\" class=\"dataframe\">\n",
       "  <thead>\n",
       "    <tr style=\"text-align: right;\">\n",
       "      <th></th>\n",
       "      <th>R_RICE_IN_KG</th>\n",
       "      <th>R_WATER_IN_LIT</th>\n",
       "      <th>R_PRESSURE</th>\n",
       "      <th>R_CHEMICAL_LITRE</th>\n",
       "      <th>Quality_AVERAGE</th>\n",
       "      <th>Quality_BAD</th>\n",
       "      <th>Quality_GOOD</th>\n",
       "    </tr>\n",
       "  </thead>\n",
       "  <tbody>\n",
       "    <tr>\n",
       "      <th>0</th>\n",
       "      <td>300</td>\n",
       "      <td>330</td>\n",
       "      <td>1</td>\n",
       "      <td>1</td>\n",
       "      <td>0</td>\n",
       "      <td>0</td>\n",
       "      <td>1</td>\n",
       "    </tr>\n",
       "    <tr>\n",
       "      <th>1</th>\n",
       "      <td>200</td>\n",
       "      <td>230</td>\n",
       "      <td>2</td>\n",
       "      <td>2</td>\n",
       "      <td>0</td>\n",
       "      <td>0</td>\n",
       "      <td>1</td>\n",
       "    </tr>\n",
       "    <tr>\n",
       "      <th>2</th>\n",
       "      <td>100</td>\n",
       "      <td>130</td>\n",
       "      <td>1</td>\n",
       "      <td>1</td>\n",
       "      <td>0</td>\n",
       "      <td>0</td>\n",
       "      <td>1</td>\n",
       "    </tr>\n",
       "    <tr>\n",
       "      <th>3</th>\n",
       "      <td>3000</td>\n",
       "      <td>3030</td>\n",
       "      <td>1</td>\n",
       "      <td>1</td>\n",
       "      <td>1</td>\n",
       "      <td>0</td>\n",
       "      <td>0</td>\n",
       "    </tr>\n",
       "    <tr>\n",
       "      <th>4</th>\n",
       "      <td>30</td>\n",
       "      <td>30</td>\n",
       "      <td>6</td>\n",
       "      <td>6</td>\n",
       "      <td>0</td>\n",
       "      <td>1</td>\n",
       "      <td>0</td>\n",
       "    </tr>\n",
       "  </tbody>\n",
       "</table>\n",
       "</div>"
      ],
      "text/plain": [
       "   R_RICE_IN_KG  R_WATER_IN_LIT  R_PRESSURE  R_CHEMICAL_LITRE  \\\n",
       "0           300             330           1                 1   \n",
       "1           200             230           2                 2   \n",
       "2           100             130           1                 1   \n",
       "3          3000            3030           1                 1   \n",
       "4            30              30           6                 6   \n",
       "\n",
       "   Quality_AVERAGE  Quality_BAD  Quality_GOOD  \n",
       "0                0            0             1  \n",
       "1                0            0             1  \n",
       "2                0            0             1  \n",
       "3                1            0             0  \n",
       "4                0            1             0  "
      ]
     },
     "execution_count": 21,
     "metadata": {},
     "output_type": "execute_result"
    }
   ],
   "source": [
    "testDataDrop = testDataConcat.drop(['Quality'],axis=1)\n",
    "testDataDrop"
   ]
  },
  {
   "cell_type": "markdown",
   "metadata": {},
   "source": [
    "## Predict value for the test data"
   ]
  },
  {
   "cell_type": "code",
   "execution_count": 22,
   "metadata": {},
   "outputs": [],
   "source": [
    "y_pred = reg.predict(testDataDrop)"
   ]
  },
  {
   "cell_type": "code",
   "execution_count": 23,
   "metadata": {},
   "outputs": [
    {
     "data": {
      "text/plain": [
       "array([[  171.82690655,   351.23519282,  -127.14357942,   183.0080435 ,\n",
       "          112.80153355,   130.        ],\n",
       "       [  133.55549106,   245.16385421,   -65.48673338,   131.12072503,\n",
       "          111.89192034,   130.        ],\n",
       "       [   95.26740765,   139.08647449,    -3.83767139,    79.23601493,\n",
       "          110.97581858,   130.        ],\n",
       "       [ 1206.06327803,  3214.25358529, -1790.63482688,  1583.06229537,\n",
       "          137.8066738 ,   130.        ],\n",
       "       [   65.66381198,    45.4998807 ,    53.73626273,    32.34780702,\n",
       "          111.66691687,   130.        ]])"
      ]
     },
     "execution_count": 23,
     "metadata": {},
     "output_type": "execute_result"
    }
   ],
   "source": [
    "y_pred"
   ]
  },
  {
   "cell_type": "markdown",
   "metadata": {},
   "source": [
    "## Convert the Predicted array to dataframe"
   ]
  },
  {
   "cell_type": "code",
   "execution_count": 24,
   "metadata": {},
   "outputs": [],
   "source": [
    "df = pd.DataFrame(data=y_pred, columns=[\"Temp 1\", \"Temp Manintain time Min\", \"Temp2\",\"Temp Maintain time\",\"Temp3\",\"Steam inlet temp Deg\"])"
   ]
  },
  {
   "cell_type": "code",
   "execution_count": 25,
   "metadata": {},
   "outputs": [
    {
     "data": {
      "text/html": [
       "<div>\n",
       "<style scoped>\n",
       "    .dataframe tbody tr th:only-of-type {\n",
       "        vertical-align: middle;\n",
       "    }\n",
       "\n",
       "    .dataframe tbody tr th {\n",
       "        vertical-align: top;\n",
       "    }\n",
       "\n",
       "    .dataframe thead th {\n",
       "        text-align: right;\n",
       "    }\n",
       "</style>\n",
       "<table border=\"1\" class=\"dataframe\">\n",
       "  <thead>\n",
       "    <tr style=\"text-align: right;\">\n",
       "      <th></th>\n",
       "      <th>Temp 1</th>\n",
       "      <th>Temp Manintain time Min</th>\n",
       "      <th>Temp2</th>\n",
       "      <th>Temp Maintain time</th>\n",
       "      <th>Temp3</th>\n",
       "      <th>Steam inlet temp Deg</th>\n",
       "    </tr>\n",
       "  </thead>\n",
       "  <tbody>\n",
       "    <tr>\n",
       "      <th>0</th>\n",
       "      <td>171.826907</td>\n",
       "      <td>351.235193</td>\n",
       "      <td>-127.143579</td>\n",
       "      <td>183.008043</td>\n",
       "      <td>112.801534</td>\n",
       "      <td>130.0</td>\n",
       "    </tr>\n",
       "    <tr>\n",
       "      <th>1</th>\n",
       "      <td>133.555491</td>\n",
       "      <td>245.163854</td>\n",
       "      <td>-65.486733</td>\n",
       "      <td>131.120725</td>\n",
       "      <td>111.891920</td>\n",
       "      <td>130.0</td>\n",
       "    </tr>\n",
       "    <tr>\n",
       "      <th>2</th>\n",
       "      <td>95.267408</td>\n",
       "      <td>139.086474</td>\n",
       "      <td>-3.837671</td>\n",
       "      <td>79.236015</td>\n",
       "      <td>110.975819</td>\n",
       "      <td>130.0</td>\n",
       "    </tr>\n",
       "    <tr>\n",
       "      <th>3</th>\n",
       "      <td>1206.063278</td>\n",
       "      <td>3214.253585</td>\n",
       "      <td>-1790.634827</td>\n",
       "      <td>1583.062295</td>\n",
       "      <td>137.806674</td>\n",
       "      <td>130.0</td>\n",
       "    </tr>\n",
       "    <tr>\n",
       "      <th>4</th>\n",
       "      <td>65.663812</td>\n",
       "      <td>45.499881</td>\n",
       "      <td>53.736263</td>\n",
       "      <td>32.347807</td>\n",
       "      <td>111.666917</td>\n",
       "      <td>130.0</td>\n",
       "    </tr>\n",
       "  </tbody>\n",
       "</table>\n",
       "</div>"
      ],
      "text/plain": [
       "        Temp 1  Temp Manintain time Min        Temp2  Temp Maintain time  \\\n",
       "0   171.826907               351.235193  -127.143579          183.008043   \n",
       "1   133.555491               245.163854   -65.486733          131.120725   \n",
       "2    95.267408               139.086474    -3.837671           79.236015   \n",
       "3  1206.063278              3214.253585 -1790.634827         1583.062295   \n",
       "4    65.663812                45.499881    53.736263           32.347807   \n",
       "\n",
       "        Temp3  Steam inlet temp Deg  \n",
       "0  112.801534                 130.0  \n",
       "1  111.891920                 130.0  \n",
       "2  110.975819                 130.0  \n",
       "3  137.806674                 130.0  \n",
       "4  111.666917                 130.0  "
      ]
     },
     "execution_count": 25,
     "metadata": {},
     "output_type": "execute_result"
    }
   ],
   "source": [
    "df"
   ]
  },
  {
   "cell_type": "code",
   "execution_count": null,
   "metadata": {},
   "outputs": [],
   "source": []
  },
  {
   "cell_type": "code",
   "execution_count": null,
   "metadata": {},
   "outputs": [],
   "source": []
  },
  {
   "cell_type": "code",
   "execution_count": null,
   "metadata": {},
   "outputs": [],
   "source": []
  },
  {
   "cell_type": "code",
   "execution_count": null,
   "metadata": {},
   "outputs": [],
   "source": []
  },
  {
   "cell_type": "code",
   "execution_count": null,
   "metadata": {},
   "outputs": [],
   "source": []
  }
 ],
 "metadata": {
  "kernelspec": {
   "display_name": "Python 3",
   "language": "python",
   "name": "python3"
  },
  "language_info": {
   "codemirror_mode": {
    "name": "ipython",
    "version": 3
   },
   "file_extension": ".py",
   "mimetype": "text/x-python",
   "name": "python",
   "nbconvert_exporter": "python",
   "pygments_lexer": "ipython3",
   "version": "3.7.6"
  }
 },
 "nbformat": 4,
 "nbformat_minor": 4
}
